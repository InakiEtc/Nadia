{
 "cells": [
  {
   "cell_type": "code",
   "execution_count": 17,
   "metadata": {
    "collapsed": true
   },
   "outputs": [
    {
     "name": "stdout",
     "output_type": "stream",
     "text": [
      "-En Diciembre de 2013 se registro la maxima media\n",
      "-En Julio de 1992 se registro la minima media\n"
     ]
    }
   ],
   "source": [
    "import pandas as pd\n",
    "import seaborn as sb\n",
    "\n",
    "data = pd.read_csv(\"../data/historico_temperaturas.csv\")\n",
    "\n",
    "# Maxima\n",
    "Maxima = data.iloc[data[\"media\"].idxmax()]\n",
    "maximaMes = Maxima.loc[\"mes\"]\n",
    "maximaAno = Maxima.loc[\"año\"]\n",
    "\n",
    "print(\"-En\",maximaMes,\"de\",maximaAno,\"se registro la maxima media\")\n",
    "\n",
    "# Minima\n",
    "Minima = data.iloc[data[\"media\"].idxmin()]\n",
    "minimaMes = Minima.loc[\"mes\"]\n",
    "minimaAno = Minima.loc[\"año\"]\n",
    "\n",
    "print(\"-En\",minimaMes,\"de\",minimaAno,\"se registro la minima media\")\n"
   ]
  }
 ],
 "metadata": {
  "kernelspec": {
   "display_name": "Python 3",
   "language": "python",
   "name": "python3"
  },
  "language_info": {
   "codemirror_mode": {
    "name": "ipython",
    "version": 2
   },
   "file_extension": ".py",
   "mimetype": "text/x-python",
   "name": "python",
   "nbconvert_exporter": "python",
   "pygments_lexer": "ipython2",
   "version": "2.7.6"
  }
 },
 "nbformat": 4,
 "nbformat_minor": 0
}