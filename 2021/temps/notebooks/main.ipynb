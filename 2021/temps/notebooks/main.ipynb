{
 "cells": [
  {
   "cell_type": "code",
   "execution_count": 73,
   "metadata": {
    "collapsed": true
   },
   "outputs": [
    {
     "name": "stdout",
     "output_type": "stream",
     "text": [
      "-En Diciembre de 2013 se registro la maxima media\n",
      "-En Julio de 1992 se registro la minima media\n"
     ]
    }
   ],
   "source": [
    "import pandas as pd\n",
    "import matplotlib.pyplot as grafico\n",
    "\n",
    "data = pd.read_csv(\"../data/historico_temperaturas.csv\")\n",
    "\n",
    "# Maxima\n",
    "Maxima = data.iloc[data[\"media\"].idxmax()]\n",
    "maximaMes = Maxima.loc[\"mes\"]\n",
    "maximaAno = Maxima.loc[\"año\"]\n",
    "\n",
    "print(\"-En\",maximaMes,\"de\",maximaAno,\"se registro la maxima media\")\n",
    "\n",
    "# Minima\n",
    "Minima = data.iloc[data[\"media\"].idxmin()]\n",
    "minimaMes = Minima.loc[\"mes\"]\n",
    "minimaAno = Minima.loc[\"año\"]\n",
    "\n",
    "print(\"-En\",minimaMes,\"de\",minimaAno,\"se registro la minima media\")"
   ]
  },
  {
   "cell_type": "code",
   "execution_count": 74,
   "outputs": [
    {
     "name": "stdout",
     "output_type": "stream",
     "text": [
      "{1991: 17.941666666666666, 1992: 17.829166666666662, 1993: 17.829166666666666, 1994: 18.525, 1995: 18.174999999999997, 1996: 18.5375, 1997: 18.8625, 1998: 17.700000000000003, 1999: 17.925, 2000: 17.958333333333332, 2001: 18.374999999999996, 2002: 18.258333333333333, 2003: 18.004166666666666, 2004: 18.445833333333333, 2005: 18.250000000000004, 2006: 18.52916666666667, 2007: 17.683333333333334, 2008: 19.033333333333335, 2009: 18.620416666666667, 2010: 18.4375, 2011: 18.2875, 2012: 18.700000000000003, 2013: 18.529166666666665, 2014: 18.60833333333333, 2015: 18.8625, 2016: 18.104166666666668, 2017: 19.079166666666662, 2018: 18.904166666666665, 2019: 18.883333333333333, 2020: 20.133333333333336}\n"
     ]
    }
   ],
   "source": [
    "tempMediaAnos = {}\n",
    "arrayAños = []\n",
    "\n",
    "for i, valor in data[\"año\"].items():\n",
    "    arrayAños.append(valor)\n",
    "    arrayAños = list(set(arrayAños))\n",
    "\n",
    "for i in arrayAños:\n",
    "    condicion = data.año == i\n",
    "    d = data[condicion]\n",
    "    n = data[condicion][\"media\"].sum() / data[condicion][\"año\"].count()\n",
    "    tempMediaAnos[i] = n\n",
    "\n",
    "print(tempMediaAnos)\n",
    "# grafico.plot( tempMediaAnos.keys(),tempMediaAnos.values())"
   ],
   "metadata": {
    "collapsed": false,
    "pycharm": {
     "name": "#%%\n"
    }
   }
  }
 ],
 "metadata": {
  "kernelspec": {
   "display_name": "Python 3",
   "language": "python",
   "name": "python3"
  },
  "language_info": {
   "codemirror_mode": {
    "name": "ipython",
    "version": 2
   },
   "file_extension": ".py",
   "mimetype": "text/x-python",
   "name": "python",
   "nbconvert_exporter": "python",
   "pygments_lexer": "ipython2",
   "version": "2.7.6"
  }
 },
 "nbformat": 4,
 "nbformat_minor": 0
}