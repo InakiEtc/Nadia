{
 "cells": [
  {
   "cell_type": "code",
   "execution_count": 21,
   "metadata": {
    "collapsed": true
   },
   "outputs": [],
   "source": [
    "import requests\n",
    "import pandas as pd\n",
    "from bs4 import BeautifulSoup\n",
    "\n",
    "def obtenerTexto(valor):\n",
    "    textos = []\n",
    "    for x in valor:\n",
    "        textos.append(x.getText())\n",
    "    return textos\n",
    "\n",
    "if __name__ == '__main__':\n",
    "\n",
    "        pagina = requests.get(\"https://liquipedia.net/counterstrike/Majors\")\n",
    "        objeto_sopa = BeautifulSoup(pagina.content, 'html.parser')\n",
    "        diccionario = {}\n",
    "\n",
    "        tournament = objeto_sopa.find_all(\"div\",class_=\"divCell Tournament Header-Premier\")\n",
    "        diccionario[\"Evento\"] = obtenerTexto(tournament)\n",
    "\n",
    "        date = objeto_sopa.find_all(\"div\",class_=\"divCell EventDetails Date Header-Premier\")\n",
    "        diccionario[\"Fecha\"] = obtenerTexto(date)\n",
    "\n",
    "        prizePool = objeto_sopa.find_all(\"div\",class_=\"divCell EventDetails Prize Header-Premier\")\n",
    "        diccionario[\"Premio\"] = obtenerTexto(prizePool)\n",
    "\n",
    "        teams = objeto_sopa.find_all(\"div\",class_=\"divCell EventDetails PlayerNumber Header-Premier\")\n",
    "        diccionario[\"Equipos\"] = obtenerTexto(teams)\n",
    "\n",
    "        location = objeto_sopa.find_all(\"div\",class_=\"divCell EventDetails Location Header-Premier\")\n",
    "        diccionario[\"Lugar\"] = obtenerTexto(location)\n",
    "\n",
    "        # winner = objeto_sopa.find_all(\"div\",class_=\"divCell Placement FirstPlace\")\n",
    "        # diccionario[\"1er Puesto\"] = obtenerTexto(winner)\n",
    "\n",
    "        # runnerUp = objeto_sopa.find_all(\"div\",class_=\"divCell Placement SecondPlace\")\n",
    "        # diccionario[\"2do Puesto\"] = obtenerTexto(runnerUp)\n",
    "\n",
    "\n",
    "\n",
    "        data = pd.DataFrame(diccionario)\n",
    "        data.to_csv(\"../data/CSGOMajors.csv\")"
   ]
  }
 ],
 "metadata": {
  "kernelspec": {
   "display_name": "Python 3",
   "language": "python",
   "name": "python3"
  },
  "language_info": {
   "codemirror_mode": {
    "name": "ipython",
    "version": 2
   },
   "file_extension": ".py",
   "mimetype": "text/x-python",
   "name": "python",
   "nbconvert_exporter": "python",
   "pygments_lexer": "ipython2",
   "version": "2.7.6"
  }
 },
 "nbformat": 4,
 "nbformat_minor": 0
}