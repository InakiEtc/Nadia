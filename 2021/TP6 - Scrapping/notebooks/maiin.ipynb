{
 "cells": [
  {
   "cell_type": "code",
   "execution_count": 30,
   "metadata": {
    "collapsed": true
   },
   "outputs": [],
   "source": [
    "import requests\n",
    "import pandas as pd\n",
    "from bs4 import BeautifulSoup\n",
    "\n",
    "def obtenerTexto(valor):\n",
    "    textos = []\n",
    "    for x in valor:\n",
    "        textos.append(x.getText())\n",
    "    return textos\n",
    "\n",
    "if __name__ == '__main__':\n",
    "\n",
    "        pagina = requests.get(\"https://liquipedia.net/counterstrike/BLAST/Premier/2021/Spring/Showdown\")\n",
    "        objeto_sopa = BeautifulSoup(pagina.content, 'html.parser')\n",
    "        diccionario = {}\n",
    "\n",
    "        team = objeto_sopa.find_all(\"center\")\n",
    "        diccionario[\"Equipo\"] = obtenerTexto(team)\n",
    "\n",
    "        qualy = objeto_sopa.find_all(\"td\",class_=\"teamcard-qualifier\")\n",
    "        diccionario[\"Qualifier\"] = obtenerTexto(qualy)\n",
    "\n",
    "        data = pd.DataFrame(diccionario)\n",
    "        data.to_csv(\"../data/BlastSpringShowdowns2021.csv\")"
   ]
  }
 ],
 "metadata": {
  "kernelspec": {
   "display_name": "Python 3",
   "language": "python",
   "name": "python3"
  },
  "language_info": {
   "codemirror_mode": {
    "name": "ipython",
    "version": 2
   },
   "file_extension": ".py",
   "mimetype": "text/x-python",
   "name": "python",
   "nbconvert_exporter": "python",
   "pygments_lexer": "ipython2",
   "version": "2.7.6"
  }
 },
 "nbformat": 4,
 "nbformat_minor": 0
}