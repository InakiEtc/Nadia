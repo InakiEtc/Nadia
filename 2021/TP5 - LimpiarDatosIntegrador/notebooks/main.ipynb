{
 "cells": [
  {
   "cell_type": "markdown",
   "source": [
    "## Preguntas\n",
    "\n",
    "1. *Cual es la provinvia que mas monto recive?*\n",
    "2. *Cual es la provinvia que mas destinatarios tiene?*\n",
    "3. *Cual es la provinvia que menos destinatarios tiene?*\n",
    "4. *Cual es la provinvia que mas monto retroactivo recive?*\n",
    "5. *Alguna provincia no recive un monto?*"
   ],
   "metadata": {
    "collapsed": false,
    "pycharm": {
     "name": "#%% md\n"
    }
   }
  },
  {
   "cell_type": "code",
   "execution_count": 214,
   "outputs": [],
   "source": [
    "import numpy as np\n",
    "import pandas as pd\n",
    "\n",
    "data = pd.read_csv(\"../data/datos.csv\",skipinitialspace=True)\n",
    "\n",
    "def convertir_en_minusculas(valor):\n",
    "  if type(valor) == str:\n",
    "    return valor.lower()\n",
    "  else:\n",
    "    return valor\n",
    "\n",
    "def corregirProvincias(valor):\n",
    "    valor = str(valor)\n",
    "    if valor.__contains__(\"autónoma\"):\n",
    "      valor = \"caba\"\n",
    "    elif valor.startswith(\"tierra\"):\n",
    "      valor = \"tierra del fuego\"\n",
    "    return valor\n",
    "\n",
    "def sacarCeros(valor):\n",
    "    valor = str(valor)\n",
    "    if valor == \"0\" or valor == \"0.00\":\n",
    "        valor = valor.replace(valor,\"-\")\n",
    "    return valor\n",
    "\n",
    "def numConComa(valor):\n",
    "    valor = \"{0:.2f}\".format(float(valor))\n",
    "    return valor\n",
    "\n",
    "def corregirNull(valor):\n",
    "    if valor == \"nan\":\n",
    "        valor = np.nan\n",
    "    return valor"
   ],
   "metadata": {
    "collapsed": false,
    "pycharm": {
     "name": "#%%\n"
    }
   }
  },
  {
   "cell_type": "code",
   "execution_count": 215,
   "outputs": [],
   "source": [
    "data = data.applymap(convertir_en_minusculas)\n",
    "data[\"provincia\"] = data[\"provincia\"].apply(corregirProvincias)\n",
    "data[\"monto\"] = data[\"monto\"].apply(numConComa)\n",
    "data[\"monto_retroactivo\"] = data[\"monto_retroactivo\"].apply(numConComa)\n",
    "data = data.applymap(sacarCeros)\n",
    "data = data.applymap(corregirNull)\n",
    "data = data.dropna()\n",
    "\n",
    "data.to_csv('../data/DatosLimpios.csv')"
   ],
   "metadata": {
    "collapsed": false,
    "pycharm": {
     "name": "#%%\n"
    }
   }
  },
  {
   "cell_type": "code",
   "execution_count": 216,
   "outputs": [
    {
     "name": "stdout",
     "output_type": "stream",
     "text": [
      "{'buenos aires': 291, 'chaco': 39, 'chubut': 20, 'caba': 11, 'corrientes': 28, 'córdoba': 60, 'entre ríos': 27, 'formosa': 12, 'jujuy': 15, 'la pampa': 13, 'la rioja': 11, 'mendoza': 59, 'misiones': 20, 'neuquén': 11, 'río negro': 19, 'salta': 30, 'san juan': 16, 'san luis': 6, 'santa cruz': 9, 'santa fe': 82, 'santiago del estero': 22, 'tierra del fuego': 4, 'tucumán': 24, 'catamarca': 1}\n"
     ]
    }
   ],
   "source": [
    "## Graficos\n",
    "\n",
    "diccionario = {}\n",
    "columnaProvincias = data['provincia']\n",
    "columnaDestinatarios = data['destinatarios']\n",
    "\n",
    "for j, val in columnaDestinatarios.items():\n",
    "    for i, valor in columnaProvincias.items():\n",
    "        if i == j:\n",
    "            diccionario[valor] = int(val)\n",
    "\n",
    "print(diccionario)\n"
   ],
   "metadata": {
    "collapsed": false,
    "pycharm": {
     "name": "#%%\n"
    }
   }
  },
  {
   "cell_type": "code",
   "execution_count": 217,
   "outputs": [],
   "source": [
    "## Conclusion\n"
   ],
   "metadata": {
    "collapsed": false,
    "pycharm": {
     "name": "#%% #md\n"
    }
   }
  }
 ],
 "metadata": {
  "kernelspec": {
   "display_name": "Python 3",
   "language": "python",
   "name": "python3"
  },
  "language_info": {
   "codemirror_mode": {
    "name": "ipython",
    "version": 2
   },
   "file_extension": ".py",
   "mimetype": "text/x-python",
   "name": "python",
   "nbconvert_exporter": "python",
   "pygments_lexer": "ipython2",
   "version": "2.7.6"
  }
 },
 "nbformat": 4,
 "nbformat_minor": 0
}