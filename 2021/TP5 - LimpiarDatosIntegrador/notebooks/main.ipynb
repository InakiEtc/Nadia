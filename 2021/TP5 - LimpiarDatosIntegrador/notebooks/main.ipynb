{
 "cells": [
  {
   "cell_type": "markdown",
   "source": [
    "## Preguntas\n",
    "\n",
    "1. *Cual es la provinvia que mas monto recive?*\n",
    "2. *Cual es la provinvia que mas destinatarios tiene?*\n",
    "3. *Cual es la provinvia que menos destinatarios tiene?*\n",
    "4. *Cual es la provinvia que mas monto retroactivo recive?*\n",
    "5. *Alguna provincia no recive un monto?*"
   ],
   "metadata": {
    "collapsed": false,
    "pycharm": {
     "name": "#%% md\n"
    }
   }
  },
  {
   "cell_type": "code",
   "execution_count": 262,
   "outputs": [],
   "source": [
    "import numpy as np\n",
    "import pandas as pd\n",
    "\n",
    "data = pd.read_csv(\"../data/datos.csv\",skipinitialspace=True)\n",
    "\n",
    "def convertir_en_minusculas(valor):\n",
    "  if type(valor) == str:\n",
    "    return valor.lower()\n",
    "  else:\n",
    "    return valor\n",
    "\n",
    "def corregirProvincias(valor):\n",
    "    valor = str(valor)\n",
    "    if valor.__contains__(\"autónoma\"):\n",
    "      valor = \"caba\"\n",
    "    elif valor.startswith(\"tierra\"):\n",
    "      valor = \"tierra del fuego\"\n",
    "    return valor\n",
    "\n",
    "def sacarCeros(valor):\n",
    "    valor = str(valor)\n",
    "    if valor == \"0\" or valor == \"0.00\":\n",
    "        valor = valor.replace(valor,\"-\")\n",
    "    return valor\n",
    "\n",
    "def numConComa(valor):\n",
    "    valor = \"{0:.2f}\".format(float(valor))\n",
    "    return valor\n",
    "\n",
    "def corregirNull(valor):\n",
    "    if valor == \"nan\":\n",
    "        valor = np.nan\n",
    "    return valor"
   ],
   "metadata": {
    "collapsed": false,
    "pycharm": {
     "name": "#%%\n"
    }
   }
  },
  {
   "cell_type": "code",
   "execution_count": 263,
   "outputs": [],
   "source": [
    "data = data.applymap(convertir_en_minusculas)\n",
    "data[\"provincia\"] = data[\"provincia\"].apply(corregirProvincias)\n",
    "data[\"monto\"] = data[\"monto\"].apply(numConComa)\n",
    "data[\"monto_retroactivo\"] = data[\"monto_retroactivo\"].apply(numConComa)\n",
    "data = data.applymap(sacarCeros)\n",
    "data = data.applymap(corregirNull)\n",
    "data = data.dropna()\n",
    "\n",
    "data.to_csv('../data/DatosLimpios.csv')"
   ],
   "metadata": {
    "collapsed": false,
    "pycharm": {
     "name": "#%%\n"
    }
   }
  },
  {
   "cell_type": "code",
   "execution_count": 264,
   "outputs": [
    {
     "name": "stdout",
     "output_type": "stream",
     "text": [
      "{'buenos aires': [0, 23, 46, 69, 92, 115, 138, 161, 184, 207, 230, 253, 276, 300, 324, 348, 372, 396], 'chaco': [1, 24, 47, 70, 93, 116, 139, 162, 185, 208, 231, 254, 278, 302, 326, 350, 374, 398], 'chubut': [2, 25, 48, 71, 94, 117, 140, 163, 186, 209, 232, 255, 327, 351, 375, 399], 'caba': [3, 26, 49, 72, 95, 118, 141, 164, 187, 210, 233, 256, 304, 328, 376, 400], 'corrientes': [4, 27, 50, 73, 96, 119, 142, 165, 188, 211, 234, 257, 353, 377], 'córdoba': [5, 28, 51, 74, 97, 120, 143, 166, 189, 212, 235, 258, 354, 378, 402], 'entre ríos': [6, 29, 52, 75, 98, 121, 144, 167, 190, 213, 236, 259, 379, 403], 'formosa': [7, 30, 53, 76, 99, 122, 145, 168, 191, 214, 237, 260, 308, 404], 'jujuy': [8, 31, 54, 77, 100, 123, 146, 169, 192, 215, 238, 261, 357], 'la pampa': [9, 32, 55, 78, 101, 124, 147, 170, 193, 216, 239, 262, 286, 334], 'la rioja': [10, 33, 56, 79, 102, 125, 148, 171, 194, 217, 240, 263], 'mendoza': [11, 34, 57, 80, 103, 126, 149, 172, 195, 218, 241, 264, 312, 336, 360, 384, 408], 'misiones': [12, 35, 58, 81, 104, 127, 150, 173, 196, 219, 242, 265, 289, 313], 'neuquén': [13, 36, 59, 82, 105, 128, 151, 174, 197, 220, 243, 266, 338], 'río negro': [14, 37, 60, 83, 106, 129, 152, 175, 198, 221, 244, 267], 'salta': [15, 38, 61, 84, 107, 130, 153, 176, 199, 222, 245, 268, 316, 340, 364, 388, 412], 'san juan': [16, 39, 62, 85, 108, 131, 154, 177, 200, 223, 246, 269, 389, 413], 'san luis': [17, 40, 63, 86, 109, 132, 155, 178, 201, 224, 247, 270, 342, 366], 'santa cruz': [18, 41, 64, 87, 110, 133, 156, 179, 202, 225, 248, 271, 319], 'santa fe': [19, 42, 65, 88, 111, 134, 157, 180, 203, 226, 249, 272, 296, 320, 344, 392, 416], 'santiago del estero': [20, 43, 66, 89, 112, 135, 158, 181, 204, 227, 250, 273, 345, 369], 'tierra del fuego': [21, 44, 67, 90, 113, 136, 159, 182, 205, 228, 251, 274, 394], 'tucumán': [22, 45, 68, 91, 114, 137, 160, 183, 206, 229, 252, 275], 'catamarca': [277]}\n"
     ]
    }
   ],
   "source": [
    "## Graficos\n",
    "\n",
    "diccionario = {}\n",
    "columnaProvincias = data['provincia']\n",
    "columnaDestinatarios = data['destinatarios']\n",
    "\n",
    "#for j, val in columnaDestinatarios.items():\n",
    "for i, valor in columnaProvincias.items():\n",
    "    diccionario[valor] = []\n",
    "\n",
    "for i, valor in columnaProvincias.items():\n",
    "    diccionario[valor].append(i)\n",
    "\n",
    "\n",
    "print(diccionario)\n"
   ],
   "metadata": {
    "collapsed": false,
    "pycharm": {
     "name": "#%%\n"
    }
   }
  },
  {
   "cell_type": "code",
   "execution_count": 265,
   "outputs": [],
   "source": [
    "## Conclusion\n"
   ],
   "metadata": {
    "collapsed": false,
    "pycharm": {
     "name": "#%% #md\n"
    }
   }
  }
 ],
 "metadata": {
  "kernelspec": {
   "display_name": "Python 3",
   "language": "python",
   "name": "python3"
  },
  "language_info": {
   "codemirror_mode": {
    "name": "ipython",
    "version": 2
   },
   "file_extension": ".py",
   "mimetype": "text/x-python",
   "name": "python",
   "nbconvert_exporter": "python",
   "pygments_lexer": "ipython2",
   "version": "2.7.6"
  }
 },
 "nbformat": 4,
 "nbformat_minor": 0
}