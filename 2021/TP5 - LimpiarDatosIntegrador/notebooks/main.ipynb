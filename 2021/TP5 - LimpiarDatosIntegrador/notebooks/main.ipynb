{
 "cells": [
  {
   "cell_type": "markdown",
   "source": [
    "## Preguntas\n",
    "\n",
    "1. *Cual es la provinvia que mas monto recive?*\n",
    "2. *Cual es la provinvia que mas destinatarios tiene?*\n",
    "3. *Cual es la provinvia que menos destinatarios tiene?*\n",
    "4. *Cual es la provinvia que mas monto retroactivo recive?*\n",
    "5. *Alguna provincia no recive un monto?*"
   ],
   "metadata": {
    "collapsed": false,
    "pycharm": {
     "name": "#%% md\n"
    }
   }
  },
  {
   "cell_type": "code",
   "execution_count": 10,
   "outputs": [
    {
     "name": "stdout",
     "output_type": "stream",
     "text": [
      "                            provincia_id        monto  \\\n",
      "provincia    destinatarios                              \n",
      "Buenos Aires 109                       6   1533404.37   \n",
      "             111                      12   3094944.60   \n",
      "             127                      18   5113163.83   \n",
      "             137                      24   7290297.96   \n",
      "             172                      30  10023634.24   \n",
      "...                                  ...          ...   \n",
      "Tucumán      25                     1080   3875941.73   \n",
      "             26                     1260   4887531.37   \n",
      "             28                     1350   5463519.37   \n",
      "             29                     1530   6728967.43   \n",
      "             30                     1620   7346110.63   \n",
      "\n",
      "                            destinatarios_retroactivo  monto_retroactivo  \n",
      "provincia    destinatarios                                                \n",
      "Buenos Aires 109                                    5         1246891.63  \n",
      "             111                                    7         1781472.97  \n",
      "             127                                   24         6255074.71  \n",
      "             137                                   34         9592287.61  \n",
      "             172                                   70        21796951.93  \n",
      "...                                               ...                ...  \n",
      "Tucumán      25                                    21         6952895.26  \n",
      "             26                                    23         6952895.26  \n",
      "             28                                    28         6952895.26  \n",
      "             29                                    30         6952895.26  \n",
      "             30                                    34         6952895.26  \n",
      "\n",
      "[177 rows x 4 columns]\n"
     ]
    }
   ],
   "source": [
    "import numpy as np\n",
    "import pandas as pd\n",
    "\n",
    "data = pd.read_csv(\"../data/datos.csv\",skipinitialspace=True)\n",
    "\n",
    "def convertir_en_minusculas(valor):\n",
    "  if type(valor) == str:\n",
    "    return valor.lower()\n",
    "  else:\n",
    "    return valor\n",
    "\n",
    "def corregirProvincias(valor):\n",
    "    valor = str(valor)\n",
    "    if valor.__contains__(\"autónoma\"):\n",
    "      valor = \"caba\"\n",
    "    elif valor.startswith(\"tierra\"):\n",
    "      valor = \"tierra del fuego\"\n",
    "    return valor\n",
    "\n",
    "def sacarCeros(valor):\n",
    "    valor = str(valor)\n",
    "    if valor == \"0\" or valor == \"0.00\":\n",
    "        valor = valor.replace(valor,\"-\")\n",
    "    return valor\n",
    "\n",
    "def numConComa(valor):\n",
    "    valor = \"{0:.2f}\".format(float(valor))\n",
    "    return valor\n",
    "\n",
    "def corregirNull(valor):\n",
    "    if valor == \"nan\":\n",
    "        valor = np.nan\n",
    "    return valor\n",
    "\n",
    "## print(data.groupby(by=['provincia','destinatarios']).sum().groupby(level=[0]).cumsum())"
   ],
   "metadata": {
    "collapsed": false,
    "pycharm": {
     "name": "#%%\n"
    }
   }
  },
  {
   "cell_type": "code",
   "execution_count": 11,
   "outputs": [],
   "source": [
    "data = data.applymap(convertir_en_minusculas)\n",
    "data[\"provincia\"] = data[\"provincia\"].apply(corregirProvincias)\n",
    "data[\"monto\"] = data[\"monto\"].apply(numConComa)\n",
    "data[\"monto_retroactivo\"] = data[\"monto_retroactivo\"].apply(numConComa)\n",
    "data = data.applymap(sacarCeros)\n",
    "data = data.applymap(corregirNull)\n",
    "data = data.dropna()\n",
    "\n",
    "data.to_csv('../data/DatosLimpios.csv')"
   ],
   "metadata": {
    "collapsed": false,
    "pycharm": {
     "name": "#%%\n"
    }
   }
  },
  {
   "cell_type": "code",
   "execution_count": 11,
   "outputs": [],
   "source": [
    "## Graficos"
   ],
   "metadata": {
    "collapsed": false,
    "pycharm": {
     "name": "#%%\n"
    }
   }
  },
  {
   "cell_type": "code",
   "source": [
    "## Conclusion\n"
   ],
   "metadata": {
    "collapsed": false,
    "pycharm": {
     "name": "#%% #md\n"
    }
   },
   "execution_count": null,
   "outputs": []
  }
 ],
 "metadata": {
  "kernelspec": {
   "display_name": "Python 3",
   "language": "python",
   "name": "python3"
  },
  "language_info": {
   "codemirror_mode": {
    "name": "ipython",
    "version": 2
   },
   "file_extension": ".py",
   "mimetype": "text/x-python",
   "name": "python",
   "nbconvert_exporter": "python",
   "pygments_lexer": "ipython2",
   "version": "2.7.6"
  }
 },
 "nbformat": 4,
 "nbformat_minor": 0
}